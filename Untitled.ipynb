{
 "cells": [
  {
   "cell_type": "code",
   "execution_count": 2,
   "metadata": {},
   "outputs": [],
   "source": [
    "import requests\n",
    "import sqlite3\n",
    "from sqlite3 import Error\n",
    "import os\n",
    "import re\n",
    "from bs4 import BeautifulSoup\n",
    "import sys, time\n",
    "from itertools import cycle\n",
    "\n",
    "def postag(kata):\n",
    "    response = requests.get(\"https://kbbi.kemdikbud.go.id/entri/\"+kata)\n",
    "    soup = BeautifulSoup(response.text, 'html.parser')\n",
    "    results = soup.find_all('div', attrs={'class': 'container body-content'})\n",
    "    result = results[0]\n",
    "    \n",
    "    root = result.find('h2')\n",
    "    \n",
    "    if root.find('span',  attrs={'class': 'rootword'}):\n",
    "        hasil = 'ada'\n",
    "    else:\n",
    "        hasil = 'ga'\n",
    "        \n",
    "#     try:\n",
    "# #         if (result.find('ol')):\n",
    "# #             ol = result.find('ol')\n",
    "# #             return ol.li.i.span.text\n",
    "# #         elif result.find('i'):\n",
    "# #             i = result.find('i')\n",
    "# #             return i.text\n",
    "# #         else:\n",
    "# #             ul = result.find('ul')\n",
    "# #             return ul.li.i.span.text\n",
    "#         root = result.find('rootword')\n",
    "#         return root.text\n",
    "#     except:\n",
    "#         return 'Entri tidak ditemukan'\n",
    "    return hasil"
   ]
  },
  {
   "cell_type": "code",
   "execution_count": 3,
   "metadata": {},
   "outputs": [
    {
     "data": {
      "text/plain": [
       "'ada'"
      ]
     },
     "execution_count": 3,
     "metadata": {},
     "output_type": "execute_result"
    }
   ],
   "source": [
    "postag(\"menyediakan\")"
   ]
  },
  {
   "cell_type": "code",
   "execution_count": 35,
   "metadata": {},
   "outputs": [],
   "source": [
    "def stem(word):\n",
    "    awalan = [\"di\",\"ke\",\"se\",\"ter\",\"me\",\"mem\",\"men\",\"meng\",\"meny\",\"pe\",\"pem\",\"pen\",\"peng\",\"peny\",\n",
    "          \"ber\",\"bel\",\"be\",\"per\",\"pel\",\"pe\"]\n",
    "    akhiran = [\"i\",\"kan\",\"an\",\"kah\",\"lah\",\"tah\",\"pun\",\"ku\",\"mu\",\"nya\"]\n",
    "    \n",
    "    indexAwalan = []\n",
    "    indexAkhiran = []\n",
    "    root = []\n",
    "    hasil = []\n",
    "    result = []\n",
    "    result2 = []\n",
    "    \n",
    "    for i in range(0,5):\n",
    "        start = word[0:i]\n",
    "        if start in awalan:\n",
    "            indexAwalan.append(i)\n",
    "            \n",
    "    for i in range(1,4):\n",
    "        l = len(word)\n",
    "        end = word[l-i:l]\n",
    "        if end in akhiran:\n",
    "            indexAkhiran.append(i)\n",
    "            \n",
    "    if len(indexAwalan) != 0:\n",
    "        for i in range(0,len(indexAwalan)):\n",
    "            prefix = word[0:indexAwalan[i]]\n",
    "            key = word[indexAwalan[i]:len(word)]\n",
    "            if prefix==\"meng\" or prefix==\"peng\":\n",
    "                key1 = \"k\"+key\n",
    "                root.append(key1)\n",
    "                root.append(key)\n",
    "            elif prefix==\"men\" or prefix==\"pen\":\n",
    "                key1 = \"t\"+key\n",
    "                root.append(key1)\n",
    "                root.append(key)\n",
    "            elif prefix==\"meny\" or prefix==\"peny\":\n",
    "                key1 = \"s\"+key\n",
    "                root.append(key1)\n",
    "                root.append(key)\n",
    "            elif prefix==\"mem\" or prefix==\"pem\":\n",
    "                key1 = \"p\"+key\n",
    "                root.append(key1)\n",
    "                root.append(key)\n",
    "            else:\n",
    "                key=key\n",
    "                root.append(key)\n",
    "        \n",
    "        if len(indexAkhiran) != 0:\n",
    "            for kata in root:\n",
    "                for i in range(0,len(indexAkhiran)):\n",
    "                    key = kata[0:len(kata)-indexAkhiran[i]]\n",
    "                    hasil.append(key)\n",
    "        else:\n",
    "            hasil = root\n",
    "            \n",
    "    else:\n",
    "        if len(indexAkhiran) != 0:\n",
    "             for i in range(0,len(indexAkhiran)):\n",
    "                    key = word[0:len(word)-indexAkhiran[i]]\n",
    "                    hasil.append(key)\n",
    "                    hasil.append(word)\n",
    "        else:\n",
    "            hasil.append(word)\n",
    "    \n",
    "    \n",
    "    \n",
    "    for kata in hasil:\n",
    "        result.append(kata)\n",
    "    for kata in root:\n",
    "        result.append(kata)\n",
    "    \n",
    "    #print(result)\n",
    "    \n",
    "    indexAwalan2 = []\n",
    "    indexAkhiran2 = []\n",
    "    \n",
    "    for kata in result:\n",
    "        for i in range(0,5):\n",
    "            start = kata[0:i]\n",
    "            if start in awalan:\n",
    "                indexAwalan2.append(i)\n",
    "                \n",
    "        for i in range(1,4):\n",
    "            l = len(kata)\n",
    "            end = kata[l-i:l]\n",
    "            if end in akhiran:\n",
    "                indexAkhiran2.append(i)\n",
    "   \n",
    "    if len(indexAwalan2) != 0:\n",
    "        for kata in result:\n",
    "            for i in range(0,len(indexAwalan2)):\n",
    "                prefix = kata[0:indexAwalan2[i]]\n",
    "                key = kata[indexAwalan2[i]:len(kata)]\n",
    "                if prefix==\"meng\" or prefix==\"peng\":\n",
    "                    key1 = \"k\"+key\n",
    "                    root.append(key1)\n",
    "                    root.append(key)\n",
    "                elif prefix==\"men\" or prefix==\"pen\":\n",
    "                    key1 = \"t\"+key\n",
    "                    root.append(key1)\n",
    "                    root.append(key)\n",
    "                elif prefix==\"meny\" or prefix==\"peny\":\n",
    "                    key1 = \"s\"+key\n",
    "                    root.append(key1)\n",
    "                    root.append(key)\n",
    "                elif prefix==\"mem\" or prefix==\"pem\":\n",
    "                    key1 = \"p\"+key\n",
    "                    root.append(key1)\n",
    "                    root.append(key)\n",
    "                else:\n",
    "                    key=key\n",
    "                    root.append(key)\n",
    "                    \n",
    "            if len(indexAkhiran2) != 0:\n",
    "                for kata in root:\n",
    "                    for i in range(0,len(indexAkhiran2)):\n",
    "                        key = kata[0:len(kata)-indexAkhiran2[i]]\n",
    "                        hasil.append(key)\n",
    "            else:\n",
    "                hasil = root\n",
    "    \n",
    "    else:\n",
    "        if len(indexAkhiran2) != 0:\n",
    "            for kata in result:\n",
    "                for i in range(0,len(indexAkhiran2)):\n",
    "                    key = kata[0:len(kata)-indexAkhiran2[i]]\n",
    "                    hasil.append(key)\n",
    "                    hasil.append(kata)\n",
    "        \n",
    "            \n",
    "    for kata in hasil:\n",
    "        result2.append(kata)\n",
    "    for kata in root:\n",
    "        result2.append(kata)\n",
    "        \n",
    "    print(result2)\n",
    "# #     #print(result)\n",
    "# #     for kata in result:\n",
    "# #         if(postag(kata) != \"Entri tidak ditemukan\"):\n",
    "# #             result2.append(kata) \n",
    "       \n",
    "#     return result"
   ]
  },
  {
   "cell_type": "code",
   "execution_count": 36,
   "metadata": {},
   "outputs": [
    {
     "name": "stdout",
     "output_type": "stream",
     "text": [
      "['mester', 'ster', 'ster', 'ster', 'ster', 'mester', 'ster', 'ster', 'ster', 'ster']\n"
     ]
    }
   ],
   "source": [
    "stem(\"semester\")"
   ]
  },
  {
   "cell_type": "code",
   "execution_count": 12,
   "metadata": {},
   "outputs": [
    {
     "data": {
      "text/plain": [
       "'dagangan'"
      ]
     },
     "execution_count": 12,
     "metadata": {},
     "output_type": "execute_result"
    }
   ],
   "source": [
    "kata = \"dagangannya\"\n",
    "kata[0:len(kata)-3]"
   ]
  },
  {
   "cell_type": "code",
   "execution_count": null,
   "metadata": {},
   "outputs": [],
   "source": []
  }
 ],
 "metadata": {
  "kernelspec": {
   "display_name": "Python 3",
   "language": "python",
   "name": "python3"
  },
  "language_info": {
   "codemirror_mode": {
    "name": "ipython",
    "version": 3
   },
   "file_extension": ".py",
   "mimetype": "text/x-python",
   "name": "python",
   "nbconvert_exporter": "python",
   "pygments_lexer": "ipython3",
   "version": "3.6.5"
  }
 },
 "nbformat": 4,
 "nbformat_minor": 2
}
